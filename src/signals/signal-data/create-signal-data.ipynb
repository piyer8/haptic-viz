{
 "cells": [
  {
   "cell_type": "code",
   "execution_count": 3,
   "metadata": {},
   "outputs": [],
   "source": [
    "import json\n",
    "import os"
   ]
  },
  {
   "cell_type": "code",
   "execution_count": 4,
   "metadata": {},
   "outputs": [
    {
     "name": "stdout",
     "output_type": "stream",
     "text": [
      "Saved all combined signals to: ./signal-descriptions/all_signals.json\n"
     ]
    }
   ],
   "source": [
    "def load_extracted_keywords(file_path):\n",
    "    with open(file_path, \"r\", encoding=\"utf-8\") as file:\n",
    "        return json.load(file)\n",
    "\n",
    "def load_collated_descriptions(file_path):\n",
    "    with open(file_path, \"r\", encoding=\"utf-8\") as file:\n",
    "        return json.load(file)\n",
    "\n",
    "def combine_data(signal_id, extracted_keywords, collated_descriptions):\n",
    "    extracted_data = extracted_keywords.get(signal_id, [{}])[0]  # Safely get the first element\n",
    "\n",
    "    # Find corresponding collated descriptions\n",
    "    description_data = next((desc for desc in collated_descriptions if desc[\"signal_index\"] == signal_id), None)\n",
    "\n",
    "    if not description_data:\n",
    "        print(f\"⚠️ No description found for signal {signal_id}\")\n",
    "        return None\n",
    "\n",
    "    combined_data = {\n",
    "        \"signal_id\": signal_id,\n",
    "        \"sensory\": {\n",
    "            \"keywords\": extracted_data.get(\"sensory_keywords\", []),\n",
    "            \"descriptions\": description_data.get(\"sensory_descriptions\", [])\n",
    "        },\n",
    "        \"emotional\": {\n",
    "            \"keywords\": extracted_data.get(\"emotional_keywords\", []),\n",
    "            \"descriptions\": description_data.get(\"emotional_descriptions\", [])\n",
    "        },\n",
    "        \"associative\": {\n",
    "            \"keywords\": extracted_data.get(\"associative_keywords\", []),\n",
    "            \"descriptions\": description_data.get(\"associative_descriptions\", [])\n",
    "        }\n",
    "    }\n",
    "\n",
    "    return combined_data\n",
    "\n",
    "# Save each signal's data as a separate JSON file\n",
    "def save_combined_signal(signal_id, combined_data, output_folder):\n",
    "    os.makedirs(output_folder, exist_ok=True)  # Ensure the output folder exists\n",
    "    output_path = os.path.join(output_folder, f\"F{signal_id}.json\")\n",
    "    \n",
    "    with open(output_path, \"w\", encoding=\"utf-8\") as output_file:\n",
    "        json.dump(combined_data, output_file, indent=4)\n",
    "\n",
    "    print(f\"Saved: {output_path}\")\n",
    "def main():\n",
    "    extracted_keywords_file = \"./emotions/extracted_keywords.json\"\n",
    "    collated_descriptions_file = \"collated_descriptions.json\"\n",
    "    output_folder = \"./signal-descriptions\"\n",
    "\n",
    "    extracted_keywords = load_extracted_keywords(extracted_keywords_file)\n",
    "    collated_descriptions = load_collated_descriptions(collated_descriptions_file)\n",
    "    combined_signals = []\n",
    "    # Process each signal from extracted keywords\n",
    "    for signal_id in extracted_keywords.keys():\n",
    "        combined_data = combine_data(signal_id, extracted_keywords, collated_descriptions)\n",
    "        if combined_data:\n",
    "            combined_signals.append(combined_data)\n",
    "            #save_combined_signal(signal_id, combined_data, output_folder)\n",
    "\n",
    "    # Save all combined signals as a single JSON file\n",
    "    output_path = os.path.join(output_folder, \"all_signals.json\")\n",
    "    with open(output_path, \"w\", encoding=\"utf-8\") as output_file:\n",
    "        json.dump(combined_signals, output_file, indent=4)\n",
    "\n",
    "    print(f\"Saved all combined signals to: {output_path}\")\n",
    "\n",
    "# Run the script\n",
    "if __name__ == \"__main__\":\n",
    "    main()"
   ]
  }
 ],
 "metadata": {
  "kernelspec": {
   "display_name": "Python 3",
   "language": "python",
   "name": "python3"
  },
  "language_info": {
   "codemirror_mode": {
    "name": "ipython",
    "version": 3
   },
   "file_extension": ".py",
   "mimetype": "text/x-python",
   "name": "python",
   "nbconvert_exporter": "python",
   "pygments_lexer": "ipython3",
   "version": "3.12.4"
  }
 },
 "nbformat": 4,
 "nbformat_minor": 2
}
