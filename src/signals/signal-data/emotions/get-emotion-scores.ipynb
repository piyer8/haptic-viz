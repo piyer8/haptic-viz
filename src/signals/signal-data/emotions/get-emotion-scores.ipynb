{
 "cells": [
  {
   "cell_type": "code",
   "execution_count": 19,
   "metadata": {},
   "outputs": [],
   "source": [
    "import json\n",
    "import os"
   ]
  },
  {
   "cell_type": "code",
   "execution_count": null,
   "metadata": {},
   "outputs": [],
   "source": [
    "nrc_path = './NRC-Emotion-Intensity-Lexicon/NRC-Emotion-Intensity-Lexicon-v1.txt'\n",
    "word_data = []\n",
    "\n",
    "with open(nrc_path) as f:\n",
    "    for line in f:\n",
    "        parts = line.strip().split('\\t')\n",
    "        word = parts[0]\n",
    "        emotion = parts[1]\n",
    "        intensity = parts[2]\n",
    "        word_data.append({\"word\": word, \"emotion\": emotion, \"intensity\": intensity})\n"
   ]
  },
  {
   "cell_type": "code",
   "execution_count": null,
   "metadata": {},
   "outputs": [
    {
     "ename": "TypeError",
     "evalue": "NRCLex.__init__() missing 1 required positional argument: 'text'",
     "output_type": "error",
     "traceback": [
      "\u001b[0;31m---------------------------------------------------------------------------\u001b[0m",
      "\u001b[0;31mTypeError\u001b[0m                                 Traceback (most recent call last)",
      "Cell \u001b[0;32mIn[23], line 49\u001b[0m\n\u001b[1;32m     46\u001b[0m         save_processed_signal(signal_id, processed_data, output_folder)\n\u001b[1;32m     48\u001b[0m \u001b[38;5;28;01mif\u001b[39;00m \u001b[38;5;18m__name__\u001b[39m \u001b[38;5;241m==\u001b[39m \u001b[38;5;124m\"\u001b[39m\u001b[38;5;124m__main__\u001b[39m\u001b[38;5;124m\"\u001b[39m:\n\u001b[0;32m---> 49\u001b[0m     \u001b[43mmain\u001b[49m\u001b[43m(\u001b[49m\u001b[43m)\u001b[49m\n",
      "Cell \u001b[0;32mIn[23], line 45\u001b[0m, in \u001b[0;36mmain\u001b[0;34m()\u001b[0m\n\u001b[1;32m     43\u001b[0m output_folder \u001b[38;5;241m=\u001b[39m \u001b[38;5;124m\"\u001b[39m\u001b[38;5;124m./emotional-data/\u001b[39m\u001b[38;5;124m\"\u001b[39m\n\u001b[1;32m     44\u001b[0m \u001b[38;5;28;01mfor\u001b[39;00m signal_id, signal_list \u001b[38;5;129;01min\u001b[39;00m keywords_data\u001b[38;5;241m.\u001b[39mitems():\n\u001b[0;32m---> 45\u001b[0m     processed_data \u001b[38;5;241m=\u001b[39m \u001b[43mprocess_signal\u001b[49m\u001b[43m(\u001b[49m\u001b[43msignal_id\u001b[49m\u001b[43m,\u001b[49m\u001b[43m \u001b[49m\u001b[43msignal_list\u001b[49m\u001b[43m)\u001b[49m\n\u001b[1;32m     46\u001b[0m     save_processed_signal(signal_id, processed_data, output_folder)\n",
      "Cell \u001b[0;32mIn[23], line 11\u001b[0m, in \u001b[0;36mprocess_signal\u001b[0;34m(signal_id, signal_data)\u001b[0m\n\u001b[1;32m      9\u001b[0m emotional_keywords \u001b[38;5;241m=\u001b[39m entry[\u001b[38;5;124m\"\u001b[39m\u001b[38;5;124memotional_keywords\u001b[39m\u001b[38;5;124m\"\u001b[39m][\u001b[38;5;241m0\u001b[39m]\u001b[38;5;241m.\u001b[39msplit(\u001b[38;5;124m\"\u001b[39m\u001b[38;5;124m, \u001b[39m\u001b[38;5;124m\"\u001b[39m)\n\u001b[1;32m     10\u001b[0m emotional_keywords \u001b[38;5;241m=\u001b[39m [keyword\u001b[38;5;241m.\u001b[39mreplace(\u001b[38;5;124m\"\u001b[39m\u001b[38;5;124m \u001b[39m\u001b[38;5;124m\"\u001b[39m, \u001b[38;5;124m\"\u001b[39m\u001b[38;5;124m\"\u001b[39m)\u001b[38;5;241m.\u001b[39mlower() \u001b[38;5;28;01mfor\u001b[39;00m keyword \u001b[38;5;129;01min\u001b[39;00m emotional_keywords]\n\u001b[0;32m---> 11\u001b[0m text_entries \u001b[38;5;241m=\u001b[39m \u001b[43mNRCLex\u001b[49m\u001b[43m(\u001b[49m\u001b[43m)\u001b[49m\n\u001b[1;32m     12\u001b[0m text_entries\u001b[38;5;241m.\u001b[39mload_tokens(emotional_keywords)\n\u001b[1;32m     13\u001b[0m keyword_scores \u001b[38;5;241m=\u001b[39m text_entries\u001b[38;5;241m.\u001b[39maffect_dict\n",
      "\u001b[0;31mTypeError\u001b[0m: NRCLex.__init__() missing 1 required positional argument: 'text'"
     ]
    }
   ],
   "source": [
    "keywords_path = './extracted_keywords.json'\n",
    "with open(keywords_path) as f:\n",
    "    keywords_data = json.load(f)\n",
    "\n",
    "def process_signal(signal_id, signal_data):\n",
    "    processed_entries = []\n",
    "    keyword_scores = []\n",
    "    for entry in signal_data:\n",
    "        emotional_keywords = entry[\"emotional_keywords\"][0].split(\", \")\n",
    "        emotional_keywords = [keyword.replace(\" \", \"\").lower() for keyword in emotional_keywords]\n",
    "        for keyword in emotional_keywords:\n",
    "            matches = [d for d in word_data if d[\"word\"] == keyword]\n",
    "            keyword_scores.extend(matches)\n",
    "            keyword_scores = [d for d in word_data if d[\"word\"] in emotional_keywords]\n",
    "\n",
    "        processed_entries.append({\n",
    "            \"signal_id\": signal_id,\n",
    "            \"emotional_keywords\": keyword_scores,\n",
    "            \"keyword_scores\": keyword_scores,\n",
    "        })\n",
    "\n",
    "    return processed_entries\n",
    "\n",
    "def save_processed_signal(signal_id, processed_data, output_folder):\n",
    "    os.makedirs(output_folder, exist_ok=True)\n",
    "    output_path = os.path.join(output_folder, f\"F{signal_id}.json\")\n",
    "    \n",
    "    with open(output_path, \"w\", encoding=\"utf-8\") as output_file:\n",
    "        json.dump(processed_data, output_file, indent=4)\n",
    "\n",
    "    print(f\"Processed and saved: {output_path}\")\n",
    "\n",
    "def main():\n",
    "    output_folder = \"./emotional-data/\"\n",
    "    for signal_id, signal_list in keywords_data.items():\n",
    "        processed_data = process_signal(signal_id, signal_list)\n",
    "        save_processed_signal(signal_id, processed_data, output_folder)\n",
    "\n",
    "if __name__ == \"__main__\":\n",
    "    main()"
   ]
  },
  {
   "cell_type": "code",
   "execution_count": null,
   "metadata": {},
   "outputs": [],
   "source": []
  }
 ],
 "metadata": {
  "kernelspec": {
   "display_name": "Python 3",
   "language": "python",
   "name": "python3"
  },
  "language_info": {
   "codemirror_mode": {
    "name": "ipython",
    "version": 3
   },
   "file_extension": ".py",
   "mimetype": "text/x-python",
   "name": "python",
   "nbconvert_exporter": "python",
   "pygments_lexer": "ipython3",
   "version": "3.12.4"
  }
 },
 "nbformat": 4,
 "nbformat_minor": 2
}
